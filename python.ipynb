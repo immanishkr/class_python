{
 "cells": [
  {
   "cell_type": "code",
   "execution_count": 1,
   "id": "df45abd9-3d73-4413-88f2-d7c3a05a9ff8",
   "metadata": {},
   "outputs": [
    {
     "data": {
      "text/plain": [
       "'vir'"
      ]
     },
     "execution_count": 1,
     "metadata": {},
     "output_type": "execute_result"
    }
   ],
   "source": [
    "idol='virat kohli'\n",
    "idol[0:3]\n"
   ]
  },
  {
   "cell_type": "code",
   "execution_count": 2,
   "id": "49f5f5fd-6354-4470-9634-63df21eeb09f",
   "metadata": {},
   "outputs": [
    {
     "data": {
      "text/plain": [
       "' kohli'"
      ]
     },
     "execution_count": 2,
     "metadata": {},
     "output_type": "execute_result"
    }
   ],
   "source": [
    "idol[5:]"
   ]
  },
  {
   "cell_type": "code",
   "execution_count": 3,
   "id": "22220839-371d-4d93-9ec7-60bd83428473",
   "metadata": {},
   "outputs": [
    {
     "data": {
      "text/plain": [
       "'virat'"
      ]
     },
     "execution_count": 3,
     "metadata": {},
     "output_type": "execute_result"
    }
   ],
   "source": [
    "idol[:5]"
   ]
  },
  {
   "cell_type": "code",
   "execution_count": 4,
   "id": "847e7f5b-c956-4085-a062-801e27c6b23c",
   "metadata": {},
   "outputs": [
    {
     "data": {
      "text/plain": [
       "'youtube rock'"
      ]
     },
     "execution_count": 4,
     "metadata": {},
     "output_type": "execute_result"
    }
   ],
   "source": [
    "my='youtube rocks'\n",
    "my[:12]"
   ]
  },
  {
   "cell_type": "code",
   "execution_count": 5,
   "id": "69f5bf8f-be8c-4476-a345-57509eb2b0fd",
   "metadata": {},
   "outputs": [
    {
     "data": {
      "text/plain": [
       "'s'"
      ]
     },
     "execution_count": 5,
     "metadata": {},
     "output_type": "execute_result"
    }
   ],
   "source": [
    "my[12:]\n"
   ]
  },
  {
   "cell_type": "code",
   "execution_count": 6,
   "id": "3f3230f2-702d-49c4-9767-d60989d10e2b",
   "metadata": {},
   "outputs": [
    {
     "ename": "SyntaxError",
     "evalue": "invalid syntax (965088043.py, line 1)",
     "output_type": "error",
     "traceback": [
      "\u001b[1;36m  Cell \u001b[1;32mIn[6], line 1\u001b[1;36m\u001b[0m\n\u001b[1;33m    my[7:0::0:5]\u001b[0m\n\u001b[1;37m           ^\u001b[0m\n\u001b[1;31mSyntaxError\u001b[0m\u001b[1;31m:\u001b[0m invalid syntax\n"
     ]
    }
   ],
   "source": [
    "my[7:0::0:5]\n"
   ]
  },
  {
   "cell_type": "code",
   "execution_count": 7,
   "id": "28d69676-9b54-4c7e-aa71-cf55ba1193f3",
   "metadata": {},
   "outputs": [
    {
     "data": {
      "text/plain": [
       "' rocks'"
      ]
     },
     "execution_count": 7,
     "metadata": {},
     "output_type": "execute_result"
    }
   ],
   "source": [
    "my[7:]\n"
   ]
  },
  {
   "cell_type": "code",
   "execution_count": 8,
   "id": "08423167-5679-4b3f-b47b-85e19c6c2ecf",
   "metadata": {},
   "outputs": [
    {
     "data": {
      "text/plain": [
       "'youtu'"
      ]
     },
     "execution_count": 8,
     "metadata": {},
     "output_type": "execute_result"
    }
   ],
   "source": [
    "my[:5]"
   ]
  },
  {
   "cell_type": "code",
   "execution_count": 9,
   "id": "01cefa6e-7862-4d4a-8b6e-417703d596b1",
   "metadata": {},
   "outputs": [
    {
     "data": {
      "text/plain": [
       "'youtube '"
      ]
     },
     "execution_count": 9,
     "metadata": {},
     "output_type": "execute_result"
    }
   ],
   "source": [
    "my[:-5]"
   ]
  },
  {
   "cell_type": "code",
   "execution_count": 10,
   "id": "4decbacd-2eed-4332-9f5d-e4d41f50de98",
   "metadata": {},
   "outputs": [
    {
     "data": {
      "text/plain": [
       "' rocksyoutube '"
      ]
     },
     "execution_count": 10,
     "metadata": {},
     "output_type": "execute_result"
    }
   ],
   "source": [
    "my[7:]+my[:-5]"
   ]
  },
  {
   "cell_type": "code",
   "execution_count": 11,
   "id": "077e42a3-1770-443f-8683-47f897667516",
   "metadata": {},
   "outputs": [
    {
     "data": {
      "text/plain": [
       "' rockstube'"
      ]
     },
     "execution_count": 11,
     "metadata": {},
     "output_type": "execute_result"
    }
   ],
   "source": [
    "my[7:]+my[3:7]\n"
   ]
  },
  {
   "cell_type": "code",
   "execution_count": 12,
   "id": "cca5f34e-d17b-4484-a1ec-25e47a42f1c0",
   "metadata": {},
   "outputs": [
    {
     "data": {
      "text/plain": [
       "' rockstube'"
      ]
     },
     "execution_count": 12,
     "metadata": {},
     "output_type": "execute_result"
    }
   ],
   "source": [
    "my[7:] + my[3:7]"
   ]
  },
  {
   "cell_type": "code",
   "execution_count": 13,
   "id": "ad3819fa-c7f7-4622-930b-cfe0986fa53a",
   "metadata": {
    "scrolled": true
   },
   "outputs": [
    {
     "ename": "TypeError",
     "evalue": "slice indices must be integers or None or have an __index__ method",
     "output_type": "error",
     "traceback": [
      "\u001b[1;31m---------------------------------------------------------------------------\u001b[0m",
      "\u001b[1;31mTypeError\u001b[0m                                 Traceback (most recent call last)",
      "Cell \u001b[1;32mIn[13], line 1\u001b[0m\n\u001b[1;32m----> 1\u001b[0m my[\u001b[38;5;241m7\u001b[39m:_]\u001b[38;5;241m+\u001b[39mmy[\u001b[38;5;241m3\u001b[39m:\u001b[38;5;241m7\u001b[39m]\n",
      "\u001b[1;31mTypeError\u001b[0m: slice indices must be integers or None or have an __index__ method"
     ]
    }
   ],
   "source": [
    "https://www.amazon.in/?&tag=googhydrabk1-21&ref=pd_sl_5szpgfto9i_e&adgrpid=155259813593&hvpone=&hvptwo=&hvadid=674893540034&hvpos=&hvnetw=g&hvrand=10700476209251505895&hvqmt=e&hvdev=c&hvdvcmdl=&hvlocint=&hvlocphy=9301806&hvtargid=kwd-64107830&hydadcr=14452_2316413&gad_source=1"
   ]
  },
  {
   "cell_type": "code",
   "execution_count": 14,
   "id": "e83a6d96-aec5-40a9-90c1-a08828a8e121",
   "metadata": {},
   "outputs": [
    {
     "data": {
      "text/plain": [
       "' rocks tube'"
      ]
     },
     "execution_count": 14,
     "metadata": {},
     "output_type": "execute_result"
    }
   ],
   "source": [
    "my[7:] + my[7:8] + my[3:7]"
   ]
  },
  {
   "cell_type": "code",
   "execution_count": 15,
   "id": "d717be33-8a05-42ba-a2e2-ddee251c0bf7",
   "metadata": {},
   "outputs": [
    {
     "data": {
      "text/plain": [
       "'yurs'"
      ]
     },
     "execution_count": 15,
     "metadata": {},
     "output_type": "execute_result"
    }
   ],
   "source": [
    "my[0:13:4]"
   ]
  },
  {
   "cell_type": "code",
   "execution_count": 16,
   "id": "374f1f88-ae0d-42a6-9182-a718453c519d",
   "metadata": {},
   "outputs": [
    {
     "ename": "NameError",
     "evalue": "name 'name' is not defined",
     "output_type": "error",
     "traceback": [
      "\u001b[1;31m---------------------------------------------------------------------------\u001b[0m",
      "\u001b[1;31mNameError\u001b[0m                                 Traceback (most recent call last)",
      "Cell \u001b[1;32mIn[16], line 1\u001b[0m\n\u001b[1;32m----> 1\u001b[0m \u001b[38;5;28mlen\u001b[39m(name)\n",
      "\u001b[1;31mNameError\u001b[0m: name 'name' is not defined"
     ]
    }
   ],
   "source": [
    "len(name)"
   ]
  },
  {
   "cell_type": "code",
   "execution_count": 18,
   "id": "c41debf0-bf38-4a9a-8cda-76e37e66fce0",
   "metadata": {},
   "outputs": [
    {
     "ename": "NameError",
     "evalue": "name 'name' is not defined",
     "output_type": "error",
     "traceback": [
      "\u001b[1;31m---------------------------------------------------------------------------\u001b[0m",
      "\u001b[1;31mNameError\u001b[0m                                 Traceback (most recent call last)",
      "Cell \u001b[1;32mIn[18], line 1\u001b[0m\n\u001b[1;32m----> 1\u001b[0m \u001b[38;5;28mlen\u001b[39m(name)\n",
      "\u001b[1;31mNameError\u001b[0m: name 'name' is not defined"
     ]
    }
   ],
   "source": [
    "len(name)"
   ]
  },
  {
   "cell_type": "code",
   "execution_count": 21,
   "id": "8fcca626-3699-43cd-ad70-81125483fe74",
   "metadata": {},
   "outputs": [],
   "source": [
    "name='youtube rocks'"
   ]
  },
  {
   "cell_type": "raw",
   "id": "4f2b8304-9d91-47a8-9a9d-ce662ce59028",
   "metadata": {},
   "source": []
  },
  {
   "cell_type": "code",
   "execution_count": 22,
   "id": "0386feb4-7df1-4b40-8f0b-dba568531543",
   "metadata": {},
   "outputs": [
    {
     "data": {
      "text/plain": [
       "13"
      ]
     },
     "execution_count": 22,
     "metadata": {},
     "output_type": "execute_result"
    }
   ],
   "source": [
    "len(name)"
   ]
  },
  {
   "cell_type": "code",
   "execution_count": 23,
   "id": "ffe1c5a5-35ec-4dca-8ae4-a0af7ef1d92f",
   "metadata": {},
   "outputs": [
    {
     "data": {
      "text/plain": [
       "False"
      ]
     },
     "execution_count": 23,
     "metadata": {},
     "output_type": "execute_result"
    }
   ],
   "source": [
    "name.isupper()"
   ]
  },
  {
   "cell_type": "code",
   "execution_count": 24,
   "id": "887f4691-7f87-47eb-9bdf-9631b0d1adf3",
   "metadata": {},
   "outputs": [
    {
     "data": {
      "text/plain": [
       "True"
      ]
     },
     "execution_count": 24,
     "metadata": {},
     "output_type": "execute_result"
    }
   ],
   "source": [
    "name.islower()"
   ]
  },
  {
   "cell_type": "code",
   "execution_count": 25,
   "id": "a5a21864-f209-425d-8561-f8df984cb2d5",
   "metadata": {},
   "outputs": [
    {
     "data": {
      "text/plain": [
       "'skcor ebutuoy'"
      ]
     },
     "execution_count": 25,
     "metadata": {},
     "output_type": "execute_result"
    }
   ],
   "source": [
    "name[::-1]"
   ]
  },
  {
   "cell_type": "code",
   "execution_count": 26,
   "id": "130fdcee-0654-4686-85fe-7f9e910830bf",
   "metadata": {},
   "outputs": [
    {
     "data": {
      "text/plain": [
       "'tb rcs'"
      ]
     },
     "execution_count": 26,
     "metadata": {},
     "output_type": "execute_result"
    }
   ],
   "source": [
    "name[3:8:2]+name[8:13:2]"
   ]
  },
  {
   "cell_type": "code",
   "execution_count": 28,
   "id": "1c53f84a-40ac-4ee0-9613-e57f432dec37",
   "metadata": {},
   "outputs": [
    {
     "data": {
      "text/plain": [
       "'rcsb'"
      ]
     },
     "execution_count": 28,
     "metadata": {},
     "output_type": "execute_result"
    }
   ],
   "source": [
    " name[8:13:2]+name[5::13]"
   ]
  },
  {
   "cell_type": "code",
   "execution_count": 8,
   "id": "fe6a8c8b-0e33-44b4-9ca5-df6840e02512",
   "metadata": {},
   "outputs": [
    {
     "ename": "SyntaxError",
     "evalue": "invalid syntax (1859651425.py, line 2)",
     "output_type": "error",
     "traceback": [
      "\u001b[1;36m  Cell \u001b[1;32mIn[8], line 2\u001b[1;36m\u001b[0m\n\u001b[1;33m    name[8:0::0:10]+name[5::13]\u001b[0m\n\u001b[1;37m             ^\u001b[0m\n\u001b[1;31mSyntaxError\u001b[0m\u001b[1;31m:\u001b[0m invalid syntax\n"
     ]
    }
   ],
   "source": [
    "name=\"youtube rocks\"\n",
    "name[8:10]+name[5::13]"
   ]
  },
  {
   "cell_type": "code",
   "execution_count": 1,
   "id": "96b709b7-3961-46ee-89a6-fd403407d5ea",
   "metadata": {},
   "outputs": [
    {
     "name": "stdout",
     "output_type": "stream",
     "text": [
      "drwolH\n"
     ]
    }
   ],
   "source": [
    "str=\"Hello world\"\n",
    "print(str[::-2])"
   ]
  },
  {
   "cell_type": "code",
   "execution_count": 2,
   "id": "b2b9e1e9-d2b6-436e-89d4-d90ec69b3a0f",
   "metadata": {},
   "outputs": [
    {
     "name": "stdout",
     "output_type": "stream",
     "text": [
      "Hlowrd\n"
     ]
    }
   ],
   "source": [
    "print(str[::2])"
   ]
  },
  {
   "cell_type": "code",
   "execution_count": 3,
   "id": "1053882a-2dca-4e8b-8fd0-b3b3acc8e7be",
   "metadata": {},
   "outputs": [
    {
     "name": "stdout",
     "output_type": "stream",
     "text": [
      "llo world\n"
     ]
    }
   ],
   "source": [
    "print(str[2::])"
   ]
  },
  {
   "cell_type": "code",
   "execution_count": 4,
   "id": "882d195b-0eb4-4b3b-a0b5-4ef2650fd8b1",
   "metadata": {},
   "outputs": [
    {
     "name": "stdout",
     "output_type": "stream",
     "text": [
      "ld\n"
     ]
    }
   ],
   "source": [
    "print(str[-2::])"
   ]
  },
  {
   "cell_type": "code",
   "execution_count": 5,
   "id": "470d6edf-4058-4401-a79a-f2b6291a3e0c",
   "metadata": {},
   "outputs": [
    {
     "name": "stdout",
     "output_type": "stream",
     "text": [
      "Hor\n"
     ]
    }
   ],
   "source": [
    "print(str[::4])"
   ]
  },
  {
   "cell_type": "code",
   "execution_count": 6,
   "id": "79d884d4-582a-4581-9236-d282c5de5686",
   "metadata": {},
   "outputs": [
    {
     "name": "stdout",
     "output_type": "stream",
     "text": [
      "Hlowrd\n"
     ]
    }
   ],
   "source": [
    "print(str[0:11:2])"
   ]
  },
  {
   "cell_type": "code",
   "execution_count": 7,
   "id": "03cddcd9-5bb1-4f3b-bfa1-17ea96b20f73",
   "metadata": {},
   "outputs": [
    {
     "name": "stdout",
     "output_type": "stream",
     "text": [
      "dwl\n"
     ]
    }
   ],
   "source": [
    "print(str[::-4])"
   ]
  },
  {
   "cell_type": "code",
   "execution_count": 8,
   "id": "1ff15161-90d8-45b5-9026-f604c486ed88",
   "metadata": {},
   "outputs": [
    {
     "name": "stdout",
     "output_type": "stream",
     "text": [
      "llo world\n"
     ]
    }
   ],
   "source": [
    "print(str[2:])"
   ]
  },
  {
   "cell_type": "code",
   "execution_count": 9,
   "id": "e2bb7fc3-61bd-4fd1-90d4-964256ad9e82",
   "metadata": {},
   "outputs": [
    {
     "name": "stdout",
     "output_type": "stream",
     "text": [
      "hello, world!\n"
     ]
    }
   ],
   "source": [
    "a=\" hello, world! \"\n",
    "print(a.strip())"
   ]
  },
  {
   "cell_type": "code",
   "execution_count": 10,
   "id": "3dc7c02f-c1ec-4c67-b855-501b7ccbde59",
   "metadata": {},
   "outputs": [
    {
     "name": "stdout",
     "output_type": "stream",
     "text": [
      "['hello world']\n",
      "['hello world', 'hello world']\n",
      "['hello world', 'hello world', 'hello world']\n",
      "['hello world', 'hello world', 'hello world', 'hello world']\n",
      "['hello world', 'hello world', 'hello world', 'hello world', 'hello world']\n",
      "['hello world', 'hello world', 'hello world', 'hello world', 'hello world', 'hello world']\n",
      "['hello world', 'hello world', 'hello world', 'hello world', 'hello world', 'hello world', 'hello world']\n",
      "['hello world', 'hello world', 'hello world', 'hello world', 'hello world', 'hello world', 'hello world', 'hello world']\n",
      "['hello world', 'hello world', 'hello world', 'hello world', 'hello world', 'hello world', 'hello world', 'hello world', 'hello world']\n",
      "['hello world', 'hello world', 'hello world', 'hello world', 'hello world', 'hello world', 'hello world', 'hello world', 'hello world', 'hello world']\n",
      "['hello world', 'hello world', 'hello world', 'hello world', 'hello world', 'hello world', 'hello world', 'hello world', 'hello world', 'hello world', 'hello world']\n"
     ]
    }
   ],
   "source": [
    "str=\"hello world\"\n",
    "v=[]\n",
    "for x in str:\n",
    "    v.append(str)\n",
    "    print(v)"
   ]
  },
  {
   "cell_type": "code",
   "execution_count": 11,
   "id": "094e9d1c-0ed4-4052-9167-5a75684cdaef",
   "metadata": {},
   "outputs": [
    {
     "name": "stdout",
     "output_type": "stream",
     "text": [
      "hello world\n"
     ]
    }
   ],
   "source": [
    "a=\"HELLO WORLD\"\n",
    "print(a.lower())"
   ]
  },
  {
   "cell_type": "raw",
   "id": "0f008e84-cd80-4c17-87fa-cd24c0bb7aa6",
   "metadata": {},
   "source": []
  },
  {
   "cell_type": "code",
   "execution_count": 12,
   "id": "5ac464b4-9fe0-4414-aecd-7e914a89e9fe",
   "metadata": {},
   "outputs": [
    {
     "name": "stdout",
     "output_type": "stream",
     "text": [
      "HELLO WORLD\n"
     ]
    }
   ],
   "source": [
    "a=\"hello world\"\n",
    "print(a.upper())"
   ]
  },
  {
   "cell_type": "code",
   "execution_count": 27,
   "id": "3e55ef36-48dc-4cc2-a4ec-155ae4b40c93",
   "metadata": {},
   "outputs": [
    {
     "name": "stdout",
     "output_type": "stream",
     "text": [
      "hello ,norld\n",
      "['hello ', 'world']\n",
      "['hello ', 'world']\n",
      "['he', '', 'o ,wor', 'd']\n",
      "3\n",
      "11\n",
      "Hello ,world\n",
      "7\n"
     ]
    }
   ],
   "source": [
    "a=\"hello ,world\"\n",
    "\n",
    "\n",
    "print(a.replace(\"w\",\"n\"))\n",
    "\n",
    "\n",
    "print(a.split(\",\"))\n",
    "\n",
    "print(a.split(','))\n",
    "\n",
    "print(a.split('l'))\n",
    "\n",
    "print(a.count(\"l\"))\n",
    "\n",
    "print(a.index(\"d\"))\n",
    "\n",
    "print(a.capitalize())\n",
    "\n",
    "print(a.find(\"world\"))"
   ]
  },
  {
   "cell_type": "code",
   "execution_count": 3,
   "id": "8138a371-c430-44d1-a17b-cba59cfbc7e0",
   "metadata": {},
   "outputs": [
    {
     "data": {
      "text/plain": [
       "2.0"
      ]
     },
     "execution_count": 3,
     "metadata": {},
     "output_type": "execute_result"
    }
   ],
   "source": [
    "a=2\n",
    "b=float(a)\n",
    "b"
   ]
  },
  {
   "cell_type": "code",
   "execution_count": 5,
   "id": "7117db1a-d109-409f-ba26-106870d3b295",
   "metadata": {},
   "outputs": [
    {
     "data": {
      "text/plain": [
       "3"
      ]
     },
     "execution_count": 5,
     "metadata": {},
     "output_type": "execute_result"
    }
   ],
   "source": [
    "x=3.12\n",
    "b=int(x)\n",
    "b"
   ]
  },
  {
   "cell_type": "code",
   "execution_count": 7,
   "id": "be2f3a54-adcf-4cac-a565-bfce742535b7",
   "metadata": {},
   "outputs": [
    {
     "data": {
      "text/plain": [
       "'\\nhi\\n'"
      ]
     },
     "execution_count": 7,
     "metadata": {},
     "output_type": "execute_result"
    }
   ],
   "source": [
    "'''\n",
    "hi\n",
    "'''"
   ]
  },
  {
   "cell_type": "code",
   "execution_count": 13,
   "id": "ad348e69-d119-4b77-8ec2-cd00ba8354e2",
   "metadata": {},
   "outputs": [
    {
     "name": "stdin",
     "output_type": "stream",
     "text": [
      "enter the number 5.3\n"
     ]
    },
    {
     "name": "stdout",
     "output_type": "stream",
     "text": [
      "15.3\n"
     ]
    }
   ],
   "source": [
    "a=float(input('enter the number'))\n",
    "b=a+10\n",
    "print(b)"
   ]
  },
  {
   "cell_type": "code",
   "execution_count": 16,
   "id": "00332d0e-18d1-4b35-9f77-58dad1f54576",
   "metadata": {},
   "outputs": [
    {
     "name": "stdin",
     "output_type": "stream",
     "text": [
      "enter no 5\n",
      "enter no 7\n"
     ]
    },
    {
     "name": "stdout",
     "output_type": "stream",
     "text": [
      "0.7142857142857143\n"
     ]
    }
   ],
   "source": [
    "a=int(input('enter no'))\n",
    "b=int(input('enter no'))\n",
    "x=a/b\n",
    "print(x)"
   ]
  },
  {
   "cell_type": "code",
   "execution_count": 18,
   "id": "cb34f806-8880-424f-ac0e-44fecbb6c82d",
   "metadata": {},
   "outputs": [
    {
     "name": "stdin",
     "output_type": "stream",
     "text": [
      "first name f\n",
      "last name g\n",
      "enter the age 6\n"
     ]
    },
    {
     "name": "stdout",
     "output_type": "stream",
     "text": [
      "f g 6\n"
     ]
    }
   ],
   "source": [
    "a=input('first name')\n",
    "b=input('last name')\n",
    "Age=int(input('enter the age'))\n",
    "print(a,b,Age)\n"
   ]
  },
  {
   "cell_type": "code",
   "execution_count": 2,
   "id": "38af21ec-d11c-4208-83e1-7135921072a1",
   "metadata": {},
   "outputs": [
    {
     "name": "stdin",
     "output_type": "stream",
     "text": [
      "enter the radius- 8\n"
     ]
    },
    {
     "name": "stdout",
     "output_type": "stream",
     "text": [
      "Area is = 200.96\n"
     ]
    }
   ],
   "source": [
    "r=int(input('enter the radius-'))\n",
    "PI=3.14\n",
    "A=PI*(r**2)\n",
    "print('Area is =',A)"
   ]
  },
  {
   "cell_type": "code",
   "execution_count": 4,
   "id": "7c9e1180-15cf-45d4-8f25-994ced5abde7",
   "metadata": {},
   "outputs": [
    {
     "name": "stdin",
     "output_type": "stream",
     "text": [
      "enter the radius- 8\n"
     ]
    },
    {
     "name": "stdout",
     "output_type": "stream",
     "text": [
      "Area is = 201.06192982974676\n"
     ]
    }
   ],
   "source": [
    "import math\n",
    "r=int(input('enter the radius-'))\n",
    "A=math.pi*(r**2)\n",
    "print('Area is =',A)"
   ]
  },
  {
   "cell_type": "code",
   "execution_count": 7,
   "id": "5452b257-e638-4680-9f59-3c2ba07d1893",
   "metadata": {},
   "outputs": [
    {
     "name": "stdout",
     "output_type": "stream",
     "text": [
      "Positive Infinity= inf\n",
      "Negative Infinity= -inf\n"
     ]
    }
   ],
   "source": [
    "import math\n",
    "print(\"Positive Infinity=\",math.inf)\n",
    "print(\"Negative Infinity=\",-math.inf)\n"
   ]
  },
  {
   "cell_type": "code",
   "execution_count": 10,
   "id": "e9cdb1c1-6178-437b-b450-b4785be4ca7c",
   "metadata": {},
   "outputs": [
    {
     "name": "stdin",
     "output_type": "stream",
     "text": [
      "enter the amount= 900000\n",
      "enter the interest= 13\n",
      "enter the time= 9\n"
     ]
    },
    {
     "name": "stdout",
     "output_type": "stream",
     "text": [
      "SI is= 1053000.0\n"
     ]
    }
   ],
   "source": [
    "p=int(input('enter the amount='))\n",
    "r=int(input('enter the interest='))\n",
    "t=int(input('enter the time='))\n",
    "SI=(p*r*t)/100\n",
    "print('SI is=',SI)"
   ]
  },
  {
   "cell_type": "code",
   "execution_count": 13,
   "id": "775a4517-fe69-4716-9440-caf4acbd4ee1",
   "metadata": {},
   "outputs": [
    {
     "name": "stdin",
     "output_type": "stream",
     "text": [
      "enter the no= 6+4j\n"
     ]
    },
    {
     "ename": "ValueError",
     "evalue": "invalid literal for int() with base 10: '6+4j'",
     "output_type": "error",
     "traceback": [
      "\u001b[1;31m---------------------------------------------------------------------------\u001b[0m",
      "\u001b[1;31mValueError\u001b[0m                                Traceback (most recent call last)",
      "Cell \u001b[1;32mIn[13], line 1\u001b[0m\n\u001b[1;32m----> 1\u001b[0m p\u001b[38;5;241m=\u001b[39m\u001b[38;5;28mint\u001b[39m(\u001b[38;5;28minput\u001b[39m(\u001b[38;5;124m'\u001b[39m\u001b[38;5;124menter the no=\u001b[39m\u001b[38;5;124m'\u001b[39m))\n\u001b[0;32m      2\u001b[0m r\u001b[38;5;241m=\u001b[39m\u001b[38;5;28mint\u001b[39m(\u001b[38;5;28minput\u001b[39m(\u001b[38;5;124m'\u001b[39m\u001b[38;5;124menter the no=\u001b[39m\u001b[38;5;124m'\u001b[39m))\n\u001b[0;32m      3\u001b[0m a\u001b[38;5;241m=\u001b[39mp\u001b[38;5;241m+\u001b[39mr\n",
      "\u001b[1;31mValueError\u001b[0m: invalid literal for int() with base 10: '6+4j'"
     ]
    }
   ],
   "source": [
    "p=int(input('enter the no='))\n",
    "r=int(input('enter the no='))\n",
    "a=p+r\n",
    "prnit('a')"
   ]
  },
  {
   "cell_type": "code",
   "execution_count": 1,
   "id": "edb388ae-2f34-4386-aea9-bd0e63ce2077",
   "metadata": {},
   "outputs": [
    {
     "data": {
      "text/plain": [
       "False"
      ]
     },
     "execution_count": 1,
     "metadata": {},
     "output_type": "execute_result"
    }
   ],
   "source": [
    "x=5\n",
    "y=0\n",
    "z=9\n",
    "y>z"
   ]
  },
  {
   "cell_type": "code",
   "execution_count": 2,
   "id": "70b13f5a-415e-422c-a22c-7e7a57d49994",
   "metadata": {},
   "outputs": [
    {
     "data": {
      "text/plain": [
       "True"
      ]
     },
     "execution_count": 2,
     "metadata": {},
     "output_type": "execute_result"
    }
   ],
   "source": [
    "x<z"
   ]
  },
  {
   "cell_type": "code",
   "execution_count": 6,
   "id": "3f031495-0cd4-42c9-8eeb-67de49af92f6",
   "metadata": {},
   "outputs": [
    {
     "data": {
      "text/plain": [
       "int"
      ]
     },
     "execution_count": 6,
     "metadata": {},
     "output_type": "execute_result"
    }
   ],
   "source": [
    "type(x)"
   ]
  },
  {
   "cell_type": "code",
   "execution_count": 7,
   "id": "6798e9ec-2697-43ea-82f8-116b499db134",
   "metadata": {},
   "outputs": [
    {
     "data": {
      "text/plain": [
       "float"
      ]
     },
     "execution_count": 7,
     "metadata": {},
     "output_type": "execute_result"
    }
   ],
   "source": [
    "u=4.9\n",
    "type(u)"
   ]
  },
  {
   "cell_type": "code",
   "execution_count": 9,
   "id": "9fc70810-d247-4190-95d7-139ec9698cee",
   "metadata": {},
   "outputs": [
    {
     "data": {
      "text/plain": [
       "str"
      ]
     },
     "execution_count": 9,
     "metadata": {},
     "output_type": "execute_result"
    }
   ],
   "source": [
    "c='aman'\n",
    "type(c)"
   ]
  },
  {
   "cell_type": "code",
   "execution_count": 11,
   "id": "63a60f85-eb3a-4813-b726-d89dfdacd62e",
   "metadata": {},
   "outputs": [
    {
     "data": {
      "text/plain": [
       "bool"
      ]
     },
     "execution_count": 11,
     "metadata": {},
     "output_type": "execute_result"
    }
   ],
   "source": [
    "c=True\n",
    "type(c)"
   ]
  },
  {
   "cell_type": "code",
   "execution_count": 12,
   "id": "f2c746ae-4822-4df0-8dfa-44a24b4bfb04",
   "metadata": {},
   "outputs": [
    {
     "data": {
      "text/plain": [
       "complex"
      ]
     },
     "execution_count": 12,
     "metadata": {},
     "output_type": "execute_result"
    }
   ],
   "source": [
    "x=1j\n",
    "type(x)"
   ]
  },
  {
   "cell_type": "code",
   "execution_count": 13,
   "id": "1685a071-5711-486e-b114-62895f7dc92c",
   "metadata": {},
   "outputs": [
    {
     "data": {
      "text/plain": [
       "str"
      ]
     },
     "execution_count": 13,
     "metadata": {},
     "output_type": "execute_result"
    }
   ],
   "source": [
    "New_message=\"Hello World\"\n",
    "UserAge=40\n",
    "type(New_message)"
   ]
  },
  {
   "cell_type": "code",
   "execution_count": 14,
   "id": "980649fd-d27c-42e4-9b73-01480e7107fd",
   "metadata": {},
   "outputs": [
    {
     "data": {
      "text/plain": [
       "int"
      ]
     },
     "execution_count": 14,
     "metadata": {},
     "output_type": "execute_result"
    }
   ],
   "source": [
    "type(UserAge)"
   ]
  },
  {
   "cell_type": "code",
   "execution_count": 15,
   "id": "025a54dc-541a-4b08-afb8-c75317c060fa",
   "metadata": {},
   "outputs": [
    {
     "data": {
      "text/plain": [
       "str"
      ]
     },
     "execution_count": 15,
     "metadata": {},
     "output_type": "execute_result"
    }
   ],
   "source": [
    "dob=str('2-sep-2000')\n",
    "type(dob)"
   ]
  },
  {
   "cell_type": "code",
   "execution_count": 16,
   "id": "5cf9c0ad-28f9-4216-97fa-ac4f02b9c4fc",
   "metadata": {},
   "outputs": [
    {
     "data": {
      "text/plain": [
       "str"
      ]
     },
     "execution_count": 16,
     "metadata": {},
     "output_type": "execute_result"
    }
   ],
   "source": [
    "a=str('22')\n",
    "type(a)"
   ]
  },
  {
   "cell_type": "code",
   "execution_count": 17,
   "id": "c3b3ff04-8017-4d44-b2d0-af4858b1c558",
   "metadata": {},
   "outputs": [
    {
     "data": {
      "text/plain": [
       "str"
      ]
     },
     "execution_count": 17,
     "metadata": {},
     "output_type": "execute_result"
    }
   ],
   "source": [
    "age=str('20')\n",
    "userage=int('aman')\n",
    "type(age)"
   ]
  },
  {
   "cell_type": "code",
   "execution_count": 19,
   "id": "04153536-ef89-461c-9e21-e30e63c12a07",
   "metadata": {},
   "outputs": [
    {
     "data": {
      "text/plain": [
       "int"
      ]
     },
     "execution_count": 19,
     "metadata": {},
     "output_type": "execute_result"
    }
   ],
   "source": [
    "type(userage)"
   ]
  },
  {
   "cell_type": "code",
   "execution_count": 21,
   "id": "cece65eb-84ae-44bd-87a6-e5ca0264a3a3",
   "metadata": {},
   "outputs": [
    {
     "data": {
      "text/plain": [
       "int"
      ]
     },
     "execution_count": 21,
     "metadata": {},
     "output_type": "execute_result"
    }
   ],
   "source": [
    "E=180.7\n",
    "S=int(E)\n",
    "type(S)"
   ]
  },
  {
   "cell_type": "code",
   "execution_count": 22,
   "id": "7afbe69a-bacb-4894-bc8b-4321482fd84c",
   "metadata": {},
   "outputs": [],
   "source": [
    "age=str(\"20\")\n",
    "ages=str(\"20\")\n"
   ]
  },
  {
   "cell_type": "code",
   "execution_count": 23,
   "id": "aa9d76ed-4a99-406c-9a33-37a8cf26fad5",
   "metadata": {},
   "outputs": [
    {
     "data": {
      "text/plain": [
       "str"
      ]
     },
     "execution_count": 23,
     "metadata": {},
     "output_type": "execute_result"
    }
   ],
   "source": [
    "type(age)"
   ]
  },
  {
   "cell_type": "code",
   "execution_count": 2,
   "id": "86275053-5081-4c32-a311-fa72f87ed955",
   "metadata": {},
   "outputs": [
    {
     "ename": "NameError",
     "evalue": "name 'ages' is not defined",
     "output_type": "error",
     "traceback": [
      "\u001b[1;31m---------------------------------------------------------------------------\u001b[0m",
      "\u001b[1;31mNameError\u001b[0m                                 Traceback (most recent call last)",
      "Cell \u001b[1;32mIn[2], line 1\u001b[0m\n\u001b[1;32m----> 1\u001b[0m \u001b[38;5;28mtype\u001b[39m(ages)\n",
      "\u001b[1;31mNameError\u001b[0m: name 'ages' is not defined"
     ]
    }
   ],
   "source": [
    "type(ages)"
   ]
  },
  {
   "cell_type": "code",
   "execution_count": 27,
   "id": "fc1cd2fa-133d-4268-875e-a868a32a93ca",
   "metadata": {},
   "outputs": [
    {
     "data": {
      "text/plain": [
       "float"
      ]
     },
     "execution_count": 27,
     "metadata": {},
     "output_type": "execute_result"
    }
   ],
   "source": [
    "i=1\n",
    "j=5.5\n",
    "k=6j\n",
    "a=float(i)\n",
    "type(a)"
   ]
  },
  {
   "cell_type": "code",
   "execution_count": 28,
   "id": "a3005cf6-dc14-43a0-885a-b1c099721608",
   "metadata": {},
   "outputs": [
    {
     "name": "stdout",
     "output_type": "stream",
     "text": [
      "(5.5+0j)\n"
     ]
    }
   ],
   "source": [
    "print(complex(j))"
   ]
  },
  {
   "cell_type": "code",
   "execution_count": 29,
   "id": "377ed338-84a2-4a25-8a82-9210c0013c57",
   "metadata": {},
   "outputs": [
    {
     "name": "stdout",
     "output_type": "stream",
     "text": [
      "1.0\n"
     ]
    }
   ],
   "source": [
    "print(float(i))"
   ]
  },
  {
   "cell_type": "code",
   "execution_count": 30,
   "id": "1c55dad0-0ddd-460f-a3de-b38426e79851",
   "metadata": {},
   "outputs": [
    {
     "name": "stdout",
     "output_type": "stream",
     "text": [
      "5\n"
     ]
    }
   ],
   "source": [
    "print(int(j))"
   ]
  },
  {
   "cell_type": "code",
   "execution_count": 31,
   "id": "8f3eab6a-b915-4354-941d-6200a0569b0a",
   "metadata": {},
   "outputs": [
    {
     "data": {
      "text/plain": [
       "False"
      ]
     },
     "execution_count": 31,
     "metadata": {},
     "output_type": "execute_result"
    }
   ],
   "source": [
    "a=10*10\n",
    "b=100\n",
    "a<b\n"
   ]
  },
  {
   "cell_type": "code",
   "execution_count": 32,
   "id": "7f962dcd-a08c-4632-9105-e201c838c5de",
   "metadata": {},
   "outputs": [
    {
     "data": {
      "text/plain": [
       "False"
      ]
     },
     "execution_count": 32,
     "metadata": {},
     "output_type": "execute_result"
    }
   ],
   "source": [
    "c=8+8*6\n",
    "d=100\n",
    "c==d"
   ]
  },
  {
   "cell_type": "code",
   "execution_count": 33,
   "id": "52031396-54ac-4c10-b27a-3050d4eb7286",
   "metadata": {},
   "outputs": [
    {
     "data": {
      "text/plain": [
       "True"
      ]
     },
     "execution_count": 33,
     "metadata": {},
     "output_type": "execute_result"
    }
   ],
   "source": [
    "e=100%5\n",
    "f=0\n",
    "e==f"
   ]
  },
  {
   "cell_type": "code",
   "execution_count": 34,
   "id": "08a96cf8-bb50-45ff-a8cc-581489c14dbb",
   "metadata": {},
   "outputs": [
    {
     "name": "stdin",
     "output_type": "stream",
     "text": [
      " 2\n",
      " 3\n"
     ]
    },
    {
     "name": "stdout",
     "output_type": "stream",
     "text": [
      "2 3\n"
     ]
    }
   ],
   "source": [
    "a=int(input())\n",
    "b=int(input())\n",
    "print(a,b)"
   ]
  },
  {
   "cell_type": "code",
   "execution_count": 35,
   "id": "14b14a8b-53bd-43b0-84f2-efe68327d7c1",
   "metadata": {},
   "outputs": [
    {
     "name": "stdout",
     "output_type": "stream",
     "text": [
      "a= 2 b= 3"
     ]
    }
   ],
   "source": [
    "print(\"a=\",a,\"b=\",b,end='')"
   ]
  },
  {
   "cell_type": "code",
   "execution_count": 3,
   "id": "520a5287-d512-4a32-bc16-89707ede9350",
   "metadata": {},
   "outputs": [
    {
     "name": "stdout",
     "output_type": "stream",
     "text": [
      "0\n",
      "False\n"
     ]
    }
   ],
   "source": [
    "a=10\n",
    "b=20\n",
    "c=0 and 20\n",
    "d=5>4 and 3<2\n",
    "print(c)\n",
    "print(d)"
   ]
  },
  {
   "cell_type": "code",
   "execution_count": 7,
   "id": "7a696abf-6f5c-4969-9463-54d3881bc78c",
   "metadata": {},
   "outputs": [
    {
     "name": "stdout",
     "output_type": "stream",
     "text": [
      "20\n",
      "False\n"
     ]
    }
   ],
   "source": [
    "a=10\n",
    "b=20\n",
    "c=2 and 20\n",
    "d=5>4 and 3<2\n",
    "print(c)\n",
    "print(d)"
   ]
  },
  {
   "cell_type": "code",
   "execution_count": 10,
   "id": "2af1436d-0e60-445b-af47-b4c9bf377eff",
   "metadata": {},
   "outputs": [
    {
     "name": "stdout",
     "output_type": "stream",
     "text": [
      "False\n",
      "True\n"
     ]
    }
   ],
   "source": [
    "a=10\n",
    "b=20\n",
    "c=not a>b\n",
    "d=not a\n",
    "print(d)\n",
    "print(c)"
   ]
  },
  {
   "cell_type": "code",
   "execution_count": 11,
   "id": "acb194e3-3d77-4699-bd4d-5878764e6b6a",
   "metadata": {},
   "outputs": [
    {
     "name": "stdout",
     "output_type": "stream",
     "text": [
      "True\n"
     ]
    }
   ],
   "source": [
    "a=5*2\n",
    "b=5*2.0\n",
    "print(a==b)"
   ]
  },
  {
   "cell_type": "code",
   "execution_count": 12,
   "id": "3bfae7ea-71e8-4e2b-9029-0226d8d3cc85",
   "metadata": {},
   "outputs": [
    {
     "name": "stdin",
     "output_type": "stream",
     "text": [
      "enter the temp= 45.7\n"
     ]
    },
    {
     "name": "stdout",
     "output_type": "stream",
     "text": [
      "7.6111111111111125\n"
     ]
    }
   ],
   "source": [
    "farh=float(input(\"enter the temp=\"))\n",
    "c=((farh-32)*5/9)\n",
    "print(c)"
   ]
  },
  {
   "cell_type": "code",
   "execution_count": 7,
   "id": "53b34fbd-ec95-42c2-9f44-dc4bbddf4104",
   "metadata": {},
   "outputs": [
    {
     "name": "stdout",
     "output_type": "stream",
     "text": [
      "-24\n"
     ]
    }
   ],
   "source": [
    "result=5%5+5//5-5*5\n",
    "print(result)\n",
    "\n",
    "\n"
   ]
  },
  {
   "cell_type": "code",
   "execution_count": 5,
   "id": "6c7d2918-3b64-4ffc-a993-3c9075641ffa",
   "metadata": {},
   "outputs": [
    {
     "name": "stdout",
     "output_type": "stream",
     "text": [
      "7\n"
     ]
    }
   ],
   "source": [
    "result=6+6//6-6*6**6%6\n",
    "print(result)"
   ]
  },
  {
   "cell_type": "code",
   "execution_count": 8,
   "id": "76b5b697-ec0f-46d0-9a12-527b658fba21",
   "metadata": {},
   "outputs": [
    {
     "name": "stdout",
     "output_type": "stream",
     "text": [
      "-20.5\n"
     ]
    }
   ],
   "source": [
    "result=5%10+10.5-23*4.8//3\n",
    "print(result)"
   ]
  },
  {
   "cell_type": "code",
   "execution_count": 9,
   "id": "58388129-e2dd-4bce-833a-7b0c91f19a34",
   "metadata": {},
   "outputs": [
    {
     "name": "stdout",
     "output_type": "stream",
     "text": [
      "-20.5\n"
     ]
    }
   ],
   "source": [
    "x=round(-20.5,2)\n",
    "print(x)"
   ]
  },
  {
   "cell_type": "code",
   "execution_count": 1,
   "id": "31661a34-8b1c-49d6-a9dc-b5bf5c968665",
   "metadata": {},
   "outputs": [
    {
     "name": "stdout",
     "output_type": "stream",
     "text": [
      "all is well\n"
     ]
    }
   ],
   "source": [
    "x=\"all is well\"\n",
    "print(x)"
   ]
  },
  {
   "cell_type": "code",
   "execution_count": 4,
   "id": "f2933b19-b961-4729-80b0-683a08de3999",
   "metadata": {},
   "outputs": [
    {
     "data": {
      "text/plain": [
       "False"
      ]
     },
     "execution_count": 4,
     "metadata": {},
     "output_type": "execute_result"
    }
   ],
   "source": [
    "x.isalpha()"
   ]
  },
  {
   "cell_type": "code",
   "execution_count": 5,
   "id": "38d9857a-0c2a-474b-9c47-f1a410a4498d",
   "metadata": {},
   "outputs": [
    {
     "data": {
      "text/plain": [
       "True"
      ]
     },
     "execution_count": 5,
     "metadata": {},
     "output_type": "execute_result"
    }
   ],
   "source": [
    "x.islower()"
   ]
  },
  {
   "cell_type": "code",
   "execution_count": 6,
   "id": "9601ca9e-60ce-4c2e-8c99-f796e9e7907d",
   "metadata": {},
   "outputs": [
    {
     "data": {
      "text/plain": [
       "False"
      ]
     },
     "execution_count": 6,
     "metadata": {},
     "output_type": "execute_result"
    }
   ],
   "source": [
    "x.isalnum()"
   ]
  },
  {
   "cell_type": "code",
   "execution_count": 8,
   "id": "12d40a62-263b-4876-87d5-4329ea7c12fb",
   "metadata": {},
   "outputs": [
    {
     "data": {
      "text/plain": [
       "False"
      ]
     },
     "execution_count": 8,
     "metadata": {},
     "output_type": "execute_result"
    }
   ],
   "source": [
    "x.isdigit()"
   ]
  },
  {
   "cell_type": "code",
   "execution_count": 9,
   "id": "22bd9b55-6a36-4df5-86be-0ae8b71986d2",
   "metadata": {},
   "outputs": [
    {
     "data": {
      "text/plain": [
       "False"
      ]
     },
     "execution_count": 9,
     "metadata": {},
     "output_type": "execute_result"
    }
   ],
   "source": [
    "x.isupper()"
   ]
  },
  {
   "cell_type": "code",
   "execution_count": 15,
   "id": "632c9803-9c61-41fb-8671-70b83d5e8ec5",
   "metadata": {},
   "outputs": [
    {
     "name": "stdout",
     "output_type": "stream",
     "text": [
      "w r aasinit\n"
     ]
    }
   ],
   "source": [
    "x=\"we are data scientist\"\n",
    "print(x[0],x[4],x[8::2])"
   ]
  },
  {
   "cell_type": "code",
   "execution_count": 27,
   "id": "73bb540f-078d-4cca-8213-4fd34f4175df",
   "metadata": {},
   "outputs": [
    {
     "name": "stdout",
     "output_type": "stream",
     "text": [
      "38\n"
     ]
    }
   ],
   "source": [
    "x=\"peter piper picked a peck of pickeled peppers. A peck of pickeled peppers peter piper picked. If peter piper picked a peck of pickeled peppers, whers's the peck of pickeled peppers peter piper picked?\"\n",
    "s=x.count('e')\n",
    "print(s)"
   ]
  },
  {
   "cell_type": "code",
   "execution_count": 25,
   "id": "160db505-02ab-41b5-a011-241c52b67845",
   "metadata": {},
   "outputs": [
    {
     "name": "stdout",
     "output_type": "stream",
     "text": [
      "HAPPYHAPPYHAPPYHAPPYHAPPYHAPPYHAPPYHAPPYHAPPYHAPPY\n"
     ]
    }
   ],
   "source": [
    "x=\"HAPPY\"\n",
    "y=\"I AM\"\n",
    "print(x*10)"
   ]
  },
  {
   "cell_type": "code",
   "execution_count": 26,
   "id": "5b59ac4d-3eb3-4a7a-ac13-3187599dfa1a",
   "metadata": {},
   "outputs": [
    {
     "name": "stdout",
     "output_type": "stream",
     "text": [
      "HAPPYI AM\n"
     ]
    }
   ],
   "source": [
    "print(x+y)"
   ]
  },
  {
   "cell_type": "code",
   "execution_count": 31,
   "id": "e023206a-b1b1-4140-97f1-75dcc380ea0a",
   "metadata": {},
   "outputs": [
    {
     "name": "stdout",
     "output_type": "stream",
     "text": [
      "YPPAH\n"
     ]
    }
   ],
   "source": [
    "t=\"HAPPY\"\n",
    "w=t[::-1]\n",
    "print(w)"
   ]
  },
  {
   "cell_type": "code",
   "execution_count": 33,
   "id": "479bdecc-0f54-4e48-b808-59cb8620b42f",
   "metadata": {},
   "outputs": [
    {
     "name": "stdin",
     "output_type": "stream",
     "text": [
      "enter the no: 2500\n",
      "enter the second no: 235\n"
     ]
    },
    {
     "name": "stdout",
     "output_type": "stream",
     "text": [
      "150\n",
      "10\n"
     ]
    }
   ],
   "source": [
    "h=int(input(\"enter the no:\"))\n",
    "j=int(input(\"enter the second no:\"))\n",
    "u=h%j\n",
    "f=h//j\n",
    "print(u)\n",
    "print(f)"
   ]
  },
  {
   "cell_type": "code",
   "execution_count": null,
   "id": "1ecdb77e-fedd-4cec-8028-77008fb0924f",
   "metadata": {},
   "outputs": [],
   "source": [
    "# question 1 (exercise)\n"
   ]
  },
  {
   "cell_type": "code",
   "execution_count": 5,
   "id": "5e757f88-693b-4a92-a822-605624ebcf6a",
   "metadata": {},
   "outputs": [
    {
     "name": "stdin",
     "output_type": "stream",
     "text": [
      " 1\n",
      " 2\n",
      " 50\n"
     ]
    },
    {
     "name": "stdout",
     "output_type": "stream",
     "text": [
      "Dead: 1\n",
      "Injure: 2\n",
      "Safe: 50\n",
      "Please help the people who are suffering!!!\n"
     ]
    }
   ],
   "source": [
    "Dead=int(input(\"\"))\n",
    "Injured=int(input(\"\"))\n",
    "Safe=int(input(\"\"))\n",
    "print('Dead:',Dead)\n",
    "print('Injure:',Injured)\n",
    "print('Safe:',Safe)\n",
    "print(\"Please help the people who are suffering!!!\")"
   ]
  },
  {
   "cell_type": "code",
   "execution_count": 11,
   "id": "492c4c78-89db-4e68-9c89-fd187ac107c1",
   "metadata": {},
   "outputs": [
    {
     "name": "stdin",
     "output_type": "stream",
     "text": [
      " 7\n",
      " 6\n"
     ]
    },
    {
     "name": "stdout",
     "output_type": "stream",
     "text": [
      "13 1\n"
     ]
    }
   ],
   "source": [
    "#class question\n",
    "\n",
    "a=int(input(\"\"))\n",
    "b=int(input(\"\"))\n",
    "c= a+b\n",
    "d= a-b\n",
    "print(c,d)"
   ]
  },
  {
   "cell_type": "code",
   "execution_count": 12,
   "id": "f90ae4ad-1b4b-404a-9771-9a07239f1227",
   "metadata": {},
   "outputs": [
    {
     "name": "stdin",
     "output_type": "stream",
     "text": [
      " 65\n",
      " 32\n"
     ]
    },
    {
     "name": "stdout",
     "output_type": "stream",
     "text": [
      "2 1\n"
     ]
    }
   ],
   "source": [
    "#class question\n",
    "\n",
    "a=int(input(\"\"))\n",
    "b=int(input(\"\"))\n",
    "c= a//b\n",
    "d= a%b\n",
    "print(c,d)"
   ]
  },
  {
   "cell_type": "code",
   "execution_count": 5,
   "id": "ea89cd0c-222a-4e76-a5f7-7e543793a09e",
   "metadata": {},
   "outputs": [
    {
     "name": "stdin",
     "output_type": "stream",
     "text": [
      "enter the radius = 5\n",
      "enter the angle= 70\n"
     ]
    },
    {
     "name": "stdout",
     "output_type": "stream",
     "text": [
      "6.11\n"
     ]
    }
   ],
   "source": [
    "#class question\n",
    "\n",
    "r=float(input(\"enter the radius =\"))\n",
    "angle=float(input(\"enter the angle=\"))\n",
    "pi=3.14\n",
    "arc=2*pi*r*(angle/360)\n",
    "print(round(arc,2))"
   ]
  },
  {
   "cell_type": "code",
   "execution_count": 6,
   "id": "d5e90cbf-cd96-4a91-8e09-1eb768e15e25",
   "metadata": {},
   "outputs": [
    {
     "name": "stdin",
     "output_type": "stream",
     "text": [
      "enter the radius = 5\n"
     ]
    },
    {
     "name": "stdout",
     "output_type": "stream",
     "text": [
      "78.5\n"
     ]
    }
   ],
   "source": [
    " r=float(input(\"enter the radius =\"))\n",
    "x=3.14*r*r\n",
    "print(round(x,2))"
   ]
  },
  {
   "cell_type": "code",
   "execution_count": 8,
   "id": "a9c6ef67-152c-4131-a980-58cfc0b64b82",
   "metadata": {},
   "outputs": [
    {
     "name": "stdin",
     "output_type": "stream",
     "text": [
      "enter the side1 = 4\n",
      "enter the side2 = 6\n"
     ]
    },
    {
     "data": {
      "text/plain": [
       "26.0"
      ]
     },
     "execution_count": 8,
     "metadata": {},
     "output_type": "execute_result"
    }
   ],
   "source": [
    "#class question\n",
    "\n",
    "a=float(input(\"enter the side1 =\"))\n",
    "b=float(input(\"enter the side2 =\"))\n",
    "c=((a*a+b*b)**1/2)\n",
    "c"
   ]
  },
  {
   "cell_type": "code",
   "execution_count": 3,
   "id": "a9973a55-71ef-4461-851e-425d37bcef66",
   "metadata": {},
   "outputs": [
    {
     "name": "stdin",
     "output_type": "stream",
     "text": [
      "enter the r = 6\n"
     ]
    },
    {
     "name": "stdout",
     "output_type": "stream",
     "text": [
      "37.68\n"
     ]
    }
   ],
   "source": [
    "#class question\n",
    "\n",
    "a1=float(input(\"enter the r =\"))\n",
    "pi=3.14\n",
    "s=2*pi*a1\n",
    "print(round(s,2))"
   ]
  },
  {
   "cell_type": "code",
   "execution_count": 21,
   "id": "d8412874-57aa-4d87-9ad5-2103eb9ac9a1",
   "metadata": {},
   "outputs": [
    {
     "name": "stdin",
     "output_type": "stream",
     "text": [
      " 64\n"
     ]
    },
    {
     "name": "stdout",
     "output_type": "stream",
     "text": [
      "@\n"
     ]
    }
   ],
   "source": [
    "a2=int(input())\n",
    "c=chr(a2)\n",
    "print(c)"
   ]
  },
  {
   "cell_type": "code",
   "execution_count": 24,
   "id": "66db9e28-a9a8-4ca6-a539-cf650eab0afb",
   "metadata": {},
   "outputs": [
    {
     "name": "stdin",
     "output_type": "stream",
     "text": [
      " y\n"
     ]
    },
    {
     "data": {
      "text/plain": [
       "121"
      ]
     },
     "execution_count": 24,
     "metadata": {},
     "output_type": "execute_result"
    }
   ],
   "source": [
    "a3=input()\n",
    "v=ord(a3)\n",
    "v"
   ]
  },
  {
   "cell_type": "code",
   "execution_count": 35,
   "id": "7365bd0c-3a62-45cb-9517-2416a98e6ca8",
   "metadata": {},
   "outputs": [
    {
     "name": "stdin",
     "output_type": "stream",
     "text": [
      " 4\n",
      " 5\n"
     ]
    },
    {
     "name": "stdout",
     "output_type": "stream",
     "text": [
      "no\n"
     ]
    }
   ],
   "source": [
    "#class question\n",
    "\n",
    "a=int(input())\n",
    "b=int(input())\n",
    "if a==b:\n",
    "   print(\"yes\")\n",
    "else:\n",
    "    print(\"no\")"
   ]
  },
  {
   "cell_type": "code",
   "execution_count": 1,
   "id": "eccc19e9-24d9-47df-8344-a3ef7587e3f5",
   "metadata": {},
   "outputs": [
    {
     "name": "stdin",
     "output_type": "stream",
     "text": [
      "enter the temperature= 34\n",
      "enter the velocity= 65\n"
     ]
    },
    {
     "name": "stdout",
     "output_type": "stream",
     "text": [
      "15.498746872006492\n"
     ]
    }
   ],
   "source": [
    "#class question\n",
    "\n",
    "a=float(input(\"enter the temperature=\"))\n",
    "b=float(input(\"enter the velocity=\"))\n",
    "wcf=35.74+0.6215*a+((0.4275*a-35.75)*b**0.16)\n",
    "print(wcf)"
   ]
  },
  {
   "cell_type": "code",
   "execution_count": 7,
   "id": "f674914e-6afb-4990-8b0c-d9128e3077a7",
   "metadata": {},
   "outputs": [
    {
     "name": "stdin",
     "output_type": "stream",
     "text": [
      " 4\n"
     ]
    },
    {
     "name": "stdout",
     "output_type": "stream",
     "text": [
      "a is even\n"
     ]
    }
   ],
   "source": [
    "# if else statemen for checking even and odd\n",
    "\n",
    "a=int(input(\"\"))\n",
    "\n",
    "if a % 2 == 0:\n",
    "    print(\"a is even\")\n",
    "else:\n",
    "    print(\"a is odd\")"
   ]
  },
  {
   "cell_type": "code",
   "execution_count": 11,
   "id": "92d01d34-41a0-4841-81c4-0f4ddea41def",
   "metadata": {},
   "outputs": [
    {
     "name": "stdin",
     "output_type": "stream",
     "text": [
      " 7\n",
      " 9\n"
     ]
    },
    {
     "name": "stdout",
     "output_type": "stream",
     "text": [
      "a is smaller & b is greter\n"
     ]
    }
   ],
   "source": [
    "a=int(input(\"\"))\n",
    "b=int(input(\"\"))\n",
    "if a>b:\n",
    "    print(\"a is greter & b is smaller\")\n",
    "else:\n",
    "    print(\"a is smaller & b is greter\")"
   ]
  },
  {
   "cell_type": "code",
   "execution_count": 13,
   "id": "36492381-c30f-43fa-aade-e3f71e5f6b75",
   "metadata": {},
   "outputs": [
    {
     "name": "stdin",
     "output_type": "stream",
     "text": [
      " 4\n",
      " 5\n",
      " 6\n"
     ]
    },
    {
     "name": "stdout",
     "output_type": "stream",
     "text": [
      "both are false\n"
     ]
    }
   ],
   "source": [
    "a=int(input(\"\"))\n",
    "b=int(input(\"\"))\n",
    "c=int(input(\"\"))\n",
    "if a>b and c>a:\n",
    "    print(\"both conditions are true\")\n",
    "else:\n",
    "    print(\"both are false\")"
   ]
  },
  {
   "cell_type": "code",
   "execution_count": 16,
   "id": "bbedf29a-1cf3-40b6-81a7-0c1c9f7f9e80",
   "metadata": {},
   "outputs": [
    {
     "name": "stdin",
     "output_type": "stream",
     "text": [
      " 3\n"
     ]
    },
    {
     "name": "stdout",
     "output_type": "stream",
     "text": [
      "a is odd\n"
     ]
    }
   ],
   "source": [
    "a=int(input(\"\"))\n",
    "\n",
    "if a % 2 == 1:\n",
    "    print(\"a is odd\")\n",
    "else:\n",
    "    print(\"a is even\")"
   ]
  },
  {
   "cell_type": "code",
   "execution_count": 4,
   "id": "1c3b3234-b526-4542-9190-05822268d251",
   "metadata": {},
   "outputs": [
    {
     "name": "stdin",
     "output_type": "stream",
     "text": [
      " -4\n"
     ]
    },
    {
     "name": "stdout",
     "output_type": "stream",
     "text": [
      "a is less tha 0\n"
     ]
    }
   ],
   "source": [
    "# nested if_else condition\n",
    "\n",
    "a=int(input())\n",
    "if a==0:\n",
    "    print(\"a is equal to 0\")\n",
    "else:\n",
    "    if a>20:\n",
    "        print(\"a is grater than 20\")\n",
    "    else:\n",
    "        if a<0:\n",
    "            print(\"a is less tha 0\")\n",
    "        else:\n",
    "            if a>40:\n",
    "                print(\"a is greater than 40\")\n",
    "\n"
   ]
  },
  {
   "cell_type": "code",
   "execution_count": 8,
   "id": "325eae16-5e3c-40d3-bc94-1ed66d363ec0",
   "metadata": {},
   "outputs": [
    {
     "name": "stdin",
     "output_type": "stream",
     "text": [
      " -1\n"
     ]
    },
    {
     "name": "stdout",
     "output_type": "stream",
     "text": [
      "a is negative\n"
     ]
    }
   ],
   "source": [
    "a=int(input())\n",
    "if a==0:\n",
    "    print(\"a is equal to 0\")\n",
    "if a==-1:\n",
    "    print(\"a is negative\")\n",
    "else:\n",
    "    print(\"a is positive\")"
   ]
  },
  {
   "cell_type": "code",
   "execution_count": 13,
   "id": "382fd4f7-6e5e-46f7-9144-129961ded019",
   "metadata": {},
   "outputs": [
    {
     "name": "stdin",
     "output_type": "stream",
     "text": [
      " 45\n"
     ]
    },
    {
     "name": "stdout",
     "output_type": "stream",
     "text": [
      "third division\n"
     ]
    }
   ],
   "source": [
    "a=int(input(\"\"))\n",
    "if a>=60:\n",
    "    print(\"first division\")\n",
    "else:\n",
    "    if 50<a<59:\n",
    "        print(\"second division\")\n",
    "    else:\n",
    "        if 40<a<49:\n",
    "            print(\"third division\")\n",
    "        else:\n",
    "            if a<40:\n",
    "                print(\"fail\")"
   ]
  },
  {
   "cell_type": "code",
   "execution_count": 15,
   "id": "dd8e95e5-9d17-4b5d-9b0e-2121f1b93d48",
   "metadata": {},
   "outputs": [
    {
     "name": "stdin",
     "output_type": "stream",
     "text": [
      " 45\n"
     ]
    },
    {
     "name": "stdout",
     "output_type": "stream",
     "text": [
      "third division\n"
     ]
    }
   ],
   "source": [
    "a=int(input(\"\"))\n",
    "if a>=60:\n",
    "    print(\"first division\")\n",
    "elif 50<a<59:\n",
    "        print(\"second division\")\n",
    "elif 40<a<49:\n",
    "            print(\"third division\")\n",
    "else:\n",
    "    if  a<40:\n",
    "                print(\"fail\")"
   ]
  },
  {
   "cell_type": "code",
   "execution_count": 4,
   "id": "7bc29d7f-14da-4f8d-961a-e5dd0035e8ef",
   "metadata": {},
   "outputs": [
    {
     "name": "stdin",
     "output_type": "stream",
     "text": [
      " -4\n"
     ]
    },
    {
     "name": "stdout",
     "output_type": "stream",
     "text": [
      "n*n\n"
     ]
    }
   ],
   "source": [
    "a=int(input(\"\"))\n",
    "flag=false\n",
    "if a<0:\n",
    "    print(\"n*n\")\n",
    "    flag=true\n",
    "elif a>0:\n",
    "    print(\"n*n*n\")\n",
    "    flag=true\n",
    "else:\n",
    "    if a==0:\n",
    "        print(\"flag is set to \")\n",
    "    "
   ]
  },
  {
   "cell_type": "code",
   "execution_count": 5,
   "id": "38e83718-6c5d-47dc-9ee2-ce4b8d42e918",
   "metadata": {},
   "outputs": [
    {
     "name": "stdin",
     "output_type": "stream",
     "text": [
      " 4\n"
     ]
    },
    {
     "ename": "NameError",
     "evalue": "name 'x' is not defined",
     "output_type": "error",
     "traceback": [
      "\u001b[1;31m---------------------------------------------------------------------------\u001b[0m",
      "\u001b[1;31mNameError\u001b[0m                                 Traceback (most recent call last)",
      "Cell \u001b[1;32mIn[5], line 2\u001b[0m\n\u001b[0;32m      1\u001b[0m a\u001b[38;5;241m=\u001b[39m\u001b[38;5;28mint\u001b[39m(\u001b[38;5;28minput\u001b[39m(\u001b[38;5;124m\"\u001b[39m\u001b[38;5;124m\"\u001b[39m))\n\u001b[1;32m----> 2\u001b[0m \u001b[38;5;28;01mif\u001b[39;00m x\u001b[38;5;241m>\u001b[39m\u001b[38;5;241m=\u001b[39m\u001b[38;5;241m2\u001b[39m:\n\u001b[0;32m      3\u001b[0m     \u001b[38;5;28mprint\u001b[39m(\u001b[38;5;124m\"\u001b[39m\u001b[38;5;124mx\u001b[39m\u001b[38;5;124m\"\u001b[39m)\n",
      "\u001b[1;31mNameError\u001b[0m: name 'x' is not defined"
     ]
    }
   ],
   "source": [
    "a=int(input(\"\"))\n",
    "if x>=2:\n",
    "    print(\"x\")"
   ]
  },
  {
   "cell_type": "code",
   "execution_count": 6,
   "id": "291eebab-7ba6-40d5-8141-00f6f1f18e72",
   "metadata": {},
   "outputs": [
    {
     "name": "stdin",
     "output_type": "stream",
     "text": [
      " 5\n",
      " 4\n"
     ]
    },
    {
     "name": "stdout",
     "output_type": "stream",
     "text": [
      "x is greater than y\n"
     ]
    }
   ],
   "source": [
    "x=int(input(\"\"))\n",
    "y=int(input(\"\"))\n",
    "if x==y:\n",
    "    print(\"x is equal to y\")\n",
    "elif x>y:\n",
    "    print(\"x is greater than y\")\n",
    "else:\n",
    "    print(\"x is less than y\")\n",
    "\n",
    "\n",
    "\n"
   ]
  },
  {
   "cell_type": "code",
   "execution_count": 18,
   "id": "60ae67a1-374a-42c4-9c36-94367950d057",
   "metadata": {},
   "outputs": [
    {
     "ename": "SyntaxError",
     "evalue": "invalid syntax (3681038410.py, line 10)",
     "output_type": "error",
     "traceback": [
      "\u001b[1;36m  Cell \u001b[1;32mIn[18], line 10\u001b[1;36m\u001b[0m\n\u001b[1;33m    else:\u001b[0m\n\u001b[1;37m    ^\u001b[0m\n\u001b[1;31mSyntaxError\u001b[0m\u001b[1;31m:\u001b[0m invalid syntax\n"
     ]
    }
   ],
   "source": [
    "y=int(input(\"\"))\n",
    "if y % 4 == 0:\n",
    "   \n",
    "    if y % 100 == 0:\n",
    "        \n",
    "        if y % 400 == 0:\n",
    "            print(\"it is a leap year\")\n",
    "        else:\n",
    "            print(\"it is not a leap year\")\n",
    "        else:\n",
    "        print(\"it is a leap year\")\n",
    "else:\n",
    "print(\"it is a leap year\")\n",
    "    \n",
    "           "
   ]
  },
  {
   "cell_type": "code",
   "execution_count": 21,
   "id": "28928436-7947-4443-ad63-dfc496703559",
   "metadata": {},
   "outputs": [
    {
     "name": "stdin",
     "output_type": "stream",
     "text": [
      " 4\n"
     ]
    },
    {
     "name": "stdout",
     "output_type": "stream",
     "text": [
      "no\n"
     ]
    }
   ],
   "source": [
    "a=int(input(\"\"))\n",
    "if a % 2 == 0 and a % 3 == 0:\n",
    "    print(\"yes\")\n",
    "else:\n",
    "    print(\"no\")"
   ]
  },
  {
   "cell_type": "code",
   "execution_count": 28,
   "id": "aebafcd1-2340-4649-a1b8-539249466fe8",
   "metadata": {},
   "outputs": [
    {
     "name": "stdout",
     "output_type": "stream",
     "text": [
      "1\n",
      "4\n",
      "9\n",
      "16\n",
      "25\n",
      "36\n",
      "49\n"
     ]
    }
   ],
   "source": [
    "for i in range(1,8):\n",
    "    print(i**2)"
   ]
  },
  {
   "cell_type": "code",
   "execution_count": 30,
   "id": "7bf75faa-a48d-4e6a-96de-a280043581bf",
   "metadata": {},
   "outputs": [
    {
     "name": "stdout",
     "output_type": "stream",
     "text": [
      "49\n",
      "25\n",
      "9\n",
      "1\n"
     ]
    }
   ],
   "source": [
    "for i in range(7,0,-2):\n",
    "    print(i**2)"
   ]
  },
  {
   "cell_type": "code",
   "execution_count": 49,
   "id": "2965cb37-0281-4663-8a1d-060c0e78f8eb",
   "metadata": {},
   "outputs": [
    {
     "name": "stdout",
     "output_type": "stream",
     "text": [
      "1250\n",
      "250\n",
      "50\n",
      "10\n",
      "2\n"
     ]
    }
   ],
   "source": [
    "x=1250\n",
    "\n",
    "for i in range(0,5):\n",
    "    print(x)\n",
    "    x=x//5\n",
    "    "
   ]
  },
  {
   "cell_type": "code",
   "execution_count": 55,
   "id": "e3d9174a-92ec-4c38-bc9d-29da40ae0aaa",
   "metadata": {},
   "outputs": [
    {
     "name": "stdout",
     "output_type": "stream",
     "text": [
      "2\n",
      "10\n",
      "50\n",
      "250\n",
      "1250\n"
     ]
    }
   ],
   "source": [
    "x=2\n",
    "\n",
    "for i in range(0,5):\n",
    "    print(x)\n",
    "    x=x*5"
   ]
  },
  {
   "cell_type": "code",
   "execution_count": null,
   "id": "44cddbfb-a8e1-4a81-8911-3de3085df2b1",
   "metadata": {},
   "outputs": [],
   "source": []
  },
  {
   "cell_type": "code",
   "execution_count": 1,
   "id": "6ccff019-41e1-43aa-9590-de8c8c30163b",
   "metadata": {},
   "outputs": [
    {
     "name": "stdout",
     "output_type": "stream",
     "text": [
      "12345"
     ]
    }
   ],
   "source": [
    "# while loop\n",
    "\n",
    "x=1\n",
    "while x < 6:\n",
    "    print(x,end='')\n",
    "    x=x+1\n",
    "    "
   ]
  },
  {
   "cell_type": "code",
   "execution_count": 2,
   "id": "9090a83a-1bc9-4749-96c0-f783e444d6e8",
   "metadata": {},
   "outputs": [
    {
     "name": "stdout",
     "output_type": "stream",
     "text": [
      "510152025"
     ]
    }
   ],
   "source": [
    "x=5\n",
    "while x <= 25:\n",
    "    print(x,end='')\n",
    "    x=x+5\n",
    "    "
   ]
  },
  {
   "cell_type": "code",
   "execution_count": 4,
   "id": "f370bccc-2778-4ea7-9716-b70fb770d11a",
   "metadata": {},
   "outputs": [
    {
     "name": "stdout",
     "output_type": "stream",
     "text": [
      "1250\n",
      "250\n",
      "50\n",
      "10\n",
      "2\n"
     ]
    }
   ],
   "source": [
    "x=1250\n",
    "while x >= 2:\n",
    "    print(x)\n",
    "    x=x//5"
   ]
  },
  {
   "cell_type": "code",
   "execution_count": 6,
   "id": "ace99bc6-cd84-4b24-b052-4ff51a2d78ab",
   "metadata": {
    "scrolled": true
   },
   "outputs": [
    {
     "name": "stdout",
     "output_type": "stream",
     "text": [
      "625\n",
      "125\n",
      "25\n",
      "5\n",
      "1\n"
     ]
    }
   ],
   "source": [
    "x=625\n",
    "while x >= 1:\n",
    "    print(x)\n",
    "    x=x//5"
   ]
  },
  {
   "cell_type": "code",
   "execution_count": null,
   "id": "ef164e0b-2cce-474d-9bee-855abe0d225d",
   "metadata": {},
   "outputs": [],
   "source": []
  },
  {
   "cell_type": "code",
   "execution_count": null,
   "id": "b2cf280c-8a17-4d85-a0e3-7fd96381c084",
   "metadata": {},
   "outputs": [],
   "source": []
  },
  {
   "cell_type": "code",
   "execution_count": null,
   "id": "4164f5b6-9842-441d-a823-35b87fc569d6",
   "metadata": {},
   "outputs": [],
   "source": []
  },
  {
   "cell_type": "code",
   "execution_count": null,
   "id": "6e2b13e3-2054-454c-a365-0066f9365310",
   "metadata": {},
   "outputs": [],
   "source": []
  },
  {
   "cell_type": "code",
   "execution_count": null,
   "id": "8c295d68-9f77-4029-8e6a-1ca315f883cc",
   "metadata": {},
   "outputs": [],
   "source": []
  },
  {
   "cell_type": "code",
   "execution_count": null,
   "id": "c2ff31f9-a348-46d5-892c-59b5bbf662f7",
   "metadata": {},
   "outputs": [],
   "source": []
  },
  {
   "cell_type": "code",
   "execution_count": null,
   "id": "18606fb8-6dc5-47ab-ab89-d832f40fdeb3",
   "metadata": {},
   "outputs": [],
   "source": []
  }
 ],
 "metadata": {
  "kernelspec": {
   "display_name": "Python 3 (ipykernel)",
   "language": "python",
   "name": "python3"
  },
  "language_info": {
   "codemirror_mode": {
    "name": "ipython",
    "version": 3
   },
   "file_extension": ".py",
   "mimetype": "text/x-python",
   "name": "python",
   "nbconvert_exporter": "python",
   "pygments_lexer": "ipython3",
   "version": "3.12.4"
  }
 },
 "nbformat": 4,
 "nbformat_minor": 5
}
